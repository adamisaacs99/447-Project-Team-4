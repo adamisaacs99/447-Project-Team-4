{
 "cells": [
  {
   "cell_type": "code",
   "execution_count": null,
   "metadata": {},
   "outputs": [],
   "source": [
    "import pandas as pd\n",
    "from math import isnan"
   ]
  },
  {
   "cell_type": "code",
   "execution_count": null,
   "metadata": {},
   "outputs": [],
   "source": [
    "umr = pd.read_csv('complete-data-2021-umr-by-tti.csv', encoding='latin-1')\n",
    "umr.dropna(axis=1, how='all', inplace=True) # drop empty columns\n",
    "\n",
    "def is_integer(n):\n",
    "    try:\n",
    "        float(n)\n",
    "    except ValueError:\n",
    "        return False\n",
    "    return not isnan(n) if type(n) != str else True\n",
    "\n",
    "current = ''\n",
    "new_cols = []\n",
    "for index, col in enumerate(umr.columns):\n",
    "    suffix =  [s.strip() for s in umr.iloc[:4, index] if type(s) == str and not '(000)' in s]\n",
    "    if not 'Unnamed' in col:\n",
    "        current = col\n",
    "    new_cols.append(' '.join([current.split(':')[0].replace(' (2014 through 2020 only)', '').strip().replace('Ranks for All 494 Urban Areas', '').strip()] + suffix))\n",
    "    \n",
    "\n",
    "# create columns dictionarty\n",
    "umr = umr.iloc[4:, :].reset_index(drop=True) # drop rows containing column names\n",
    "keys = ['{}'.format(i+1) for i in range(60)]\n",
    "columns_dict = pd.Series(new_cols,index=keys)\n",
    "umr.columns = keys\n",
    "\n",
    "# change datatypes to integer when possible\n",
    "umr = umr.applymap(lambda x: int(float(x.strip().replace(',',''))) if isinstance(x, str) and ',' in x else x)\n",
    "umr = umr.applymap(lambda x: int(float(x)) if is_integer(x) else x)\n",
    "umr.head(1)"
   ]
  },
  {
   "cell_type": "code",
   "execution_count": null,
   "metadata": {},
   "outputs": [],
   "source": [
    "umr = umr[umr['5'] > 2014].reset_index(drop=True) # drop rows before 2015\n",
    "umr.head()"
   ]
  },
  {
   "cell_type": "code",
   "execution_count": null,
   "metadata": {},
   "outputs": [],
   "source": [
    "umr[umr['2'].str.contains('Dallas-Fort Worth-Arlington')]['2'].unique()"
   ]
  },
  {
   "cell_type": "code",
   "execution_count": null,
   "metadata": {},
   "outputs": [],
   "source": [
    "columns_dict"
   ]
  }
 ],
 "metadata": {
  "kernelspec": {
   "display_name": "Python 3",
   "language": "python",
   "name": "python3"
  },
  "language_info": {
   "name": "python",
   "version": "3.10.11"
  },
  "orig_nbformat": 4
 },
 "nbformat": 4,
 "nbformat_minor": 2
}
