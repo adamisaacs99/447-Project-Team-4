{
 "cells": [
  {
   "cell_type": "code",
   "execution_count": 13,
   "metadata": {},
   "outputs": [],
   "source": [
    "import pandas as pd\n",
    "import numpy as np\n",
    "\n",
    "walkability_df = pd.read_csv('EPA_SmartLocationDatabase_V3_Jan_2021_Final.zip')\n"
   ]
  },
  {
   "cell_type": "code",
   "execution_count": 14,
   "metadata": {},
   "outputs": [],
   "source": [
    "walkability_df = walkability_df[walkability_df['CSA_Name'].notna()]"
   ]
  },
  {
   "cell_type": "code",
   "execution_count": 15,
   "metadata": {},
   "outputs": [],
   "source": [
    "sum_df = walkability_df[['CBSA_Name', 'TotPop', 'Ac_Total', 'D4A']]\n",
    "avg_df = walkability_df[['CBSA_Name', 'P_WrkAge', 'NatWalkInd', 'D2B_E8MIXA', 'D2A_EPHHM', 'D3B']]\n",
    "sum_df.loc[sum_df['D4A'] < 0, 'D4A'] = np.nan"
   ]
  },
  {
   "cell_type": "code",
   "execution_count": 16,
   "metadata": {},
   "outputs": [],
   "source": [
    "cleaned_walk_df = sum_df.groupby(by='CBSA_Name').sum().reset_index().merge(avg_df.groupby(by='CBSA_Name').median().reset_index(), left_on='CBSA_Name', right_on='CBSA_Name', how='outer')\n"
   ]
  },
  {
   "cell_type": "code",
   "execution_count": 17,
   "metadata": {},
   "outputs": [
    {
     "name": "stdout",
     "output_type": "stream",
     "text": [
      "Index(['TotPop', 'Ac_Total', 'D4A', 'P_WrkAge', 'NatWalkInd', 'D2B_E8MIXA',\n",
      "       'D2A_EPHHM', 'D3B', 'City', 'State'],\n",
      "      dtype='object')\n"
     ]
    }
   ],
   "source": [
    "city_state = pd.DataFrame(cleaned_walk_df['CBSA_Name'].str.split(', ').values.tolist())\n",
    "city_state.columns = ['City', 'State']\n",
    "cleaned_walk_df['City'] = city_state['City']\n",
    "cleaned_walk_df['State'] = city_state['State']\n",
    "cleaned_walk_df.drop(columns=['CBSA_Name'], inplace=True)\n",
    "print(cleaned_walk_df.columns)\n",
    "cleaned_walk_df.columns = ['Population', 'City_Size', 'Carpool_Pop', 'P_WrkAge', 'Walk_Index', 'P_Employ_Div', 'P_Household', 'Street_Density', 'City', 'State']"
   ]
  },
  {
   "cell_type": "code",
   "execution_count": 18,
   "metadata": {},
   "outputs": [
    {
     "data": {
      "text/html": [
       "<div>\n",
       "<style scoped>\n",
       "    .dataframe tbody tr th:only-of-type {\n",
       "        vertical-align: middle;\n",
       "    }\n",
       "\n",
       "    .dataframe tbody tr th {\n",
       "        vertical-align: top;\n",
       "    }\n",
       "\n",
       "    .dataframe thead th {\n",
       "        text-align: right;\n",
       "    }\n",
       "</style>\n",
       "<table border=\"1\" class=\"dataframe\">\n",
       "  <thead>\n",
       "    <tr style=\"text-align: right;\">\n",
       "      <th></th>\n",
       "      <th>Population</th>\n",
       "      <th>City_Size</th>\n",
       "      <th>Carpool_Pop</th>\n",
       "      <th>P_WrkAge</th>\n",
       "      <th>Walk_Index</th>\n",
       "      <th>P_Employ_Div</th>\n",
       "      <th>P_Household</th>\n",
       "      <th>Street_Density</th>\n",
       "      <th>City</th>\n",
       "      <th>State</th>\n",
       "    </tr>\n",
       "  </thead>\n",
       "  <tbody>\n",
       "    <tr>\n",
       "      <th>0</th>\n",
       "      <td>98474</td>\n",
       "      <td>4.872871e+05</td>\n",
       "      <td>0.00</td>\n",
       "      <td>0.5800</td>\n",
       "      <td>6.083333</td>\n",
       "      <td>0.580700</td>\n",
       "      <td>0.497325</td>\n",
       "      <td>8.621747</td>\n",
       "      <td>Adrian</td>\n",
       "      <td>MI</td>\n",
       "    </tr>\n",
       "    <tr>\n",
       "      <th>1</th>\n",
       "      <td>704454</td>\n",
       "      <td>5.914672e+05</td>\n",
       "      <td>1157.39</td>\n",
       "      <td>0.6000</td>\n",
       "      <td>7.333333</td>\n",
       "      <td>0.538761</td>\n",
       "      <td>0.546642</td>\n",
       "      <td>59.316931</td>\n",
       "      <td>Akron</td>\n",
       "      <td>OH</td>\n",
       "    </tr>\n",
       "    <tr>\n",
       "      <th>2</th>\n",
       "      <td>122870</td>\n",
       "      <td>1.476173e+06</td>\n",
       "      <td>19967.96</td>\n",
       "      <td>0.5720</td>\n",
       "      <td>8.000000</td>\n",
       "      <td>0.548416</td>\n",
       "      <td>0.568968</td>\n",
       "      <td>16.402181</td>\n",
       "      <td>Albany-Lebanon</td>\n",
       "      <td>OR</td>\n",
       "    </tr>\n",
       "    <tr>\n",
       "      <th>3</th>\n",
       "      <td>880481</td>\n",
       "      <td>1.842061e+06</td>\n",
       "      <td>162943.38</td>\n",
       "      <td>0.6080</td>\n",
       "      <td>10.583333</td>\n",
       "      <td>0.592632</td>\n",
       "      <td>0.510656</td>\n",
       "      <td>52.502810</td>\n",
       "      <td>Albany-Schenectady-Troy</td>\n",
       "      <td>NY</td>\n",
       "    </tr>\n",
       "    <tr>\n",
       "      <th>4</th>\n",
       "      <td>61114</td>\n",
       "      <td>2.591123e+05</td>\n",
       "      <td>0.00</td>\n",
       "      <td>0.5795</td>\n",
       "      <td>5.583333</td>\n",
       "      <td>0.585721</td>\n",
       "      <td>0.576007</td>\n",
       "      <td>5.903710</td>\n",
       "      <td>Albemarle</td>\n",
       "      <td>NC</td>\n",
       "    </tr>\n",
       "  </tbody>\n",
       "</table>\n",
       "</div>"
      ],
      "text/plain": [
       "   Population     City_Size  Carpool_Pop  P_WrkAge  Walk_Index  P_Employ_Div  \\\n",
       "0       98474  4.872871e+05         0.00    0.5800    6.083333      0.580700   \n",
       "1      704454  5.914672e+05      1157.39    0.6000    7.333333      0.538761   \n",
       "2      122870  1.476173e+06     19967.96    0.5720    8.000000      0.548416   \n",
       "3      880481  1.842061e+06    162943.38    0.6080   10.583333      0.592632   \n",
       "4       61114  2.591123e+05         0.00    0.5795    5.583333      0.585721   \n",
       "\n",
       "   P_Household  Street_Density                     City State  \n",
       "0     0.497325        8.621747                   Adrian    MI  \n",
       "1     0.546642       59.316931                    Akron    OH  \n",
       "2     0.568968       16.402181           Albany-Lebanon    OR  \n",
       "3     0.510656       52.502810  Albany-Schenectady-Troy    NY  \n",
       "4     0.576007        5.903710                Albemarle    NC  "
      ]
     },
     "execution_count": 18,
     "metadata": {},
     "output_type": "execute_result"
    }
   ],
   "source": [
    "cleaned_walk_df.head()"
   ]
  }
 ],
 "metadata": {
  "kernelspec": {
   "display_name": "Python 3",
   "language": "python",
   "name": "python3"
  },
  "language_info": {
   "codemirror_mode": {
    "name": "ipython",
    "version": 3
   },
   "file_extension": ".py",
   "mimetype": "text/x-python",
   "name": "python",
   "nbconvert_exporter": "python",
   "pygments_lexer": "ipython3",
   "version": "3.10.11"
  },
  "orig_nbformat": 4
 },
 "nbformat": 4,
 "nbformat_minor": 2
}
